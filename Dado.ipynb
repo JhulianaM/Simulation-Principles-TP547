{
  "nbformat": 4,
  "nbformat_minor": 0,
  "metadata": {
    "colab": {
      "provenance": [],
      "authorship_tag": "ABX9TyOSUetyHxH/cUGTPyBujva3",
      "include_colab_link": true
    },
    "kernelspec": {
      "name": "python3",
      "display_name": "Python 3"
    },
    "language_info": {
      "name": "python"
    }
  },
  "cells": [
    {
      "cell_type": "markdown",
      "metadata": {
        "id": "view-in-github",
        "colab_type": "text"
      },
      "source": [
        "<a href=\"https://colab.research.google.com/github/JhulianaM/Simulation-Principles-TP547/blob/master/Dado.ipynb\" target=\"_parent\"><img src=\"https://colab.research.google.com/assets/colab-badge.svg\" alt=\"Open In Colab\"/></a>"
      ]
    },
    {
      "cell_type": "code",
      "source": [
        "import random\n",
        "#Criamos a função que simula o lançamento de dados\n",
        "def lançar_dados(n_simulações):\n",
        "    #Iniciamos a variável que armazenará o número de sucesso\n",
        "    sucesso = 0\n",
        "    #criamos um loop for com o intervalo do número de simulações que ele realizará\n",
        "    for _ in range(n_simulações):\n",
        "        #geramos um numero aleatorio entre 1 e 6, rango de 5 (5 dados)\n",
        "        dados = [random.randint(1, 6) for _ in range(5)]\n",
        "        #se o valor do dado for 6 então somamos um ao número de sucessos\n",
        "        if 6 in dados:\n",
        "            sucesso += 1\n",
        "    #retorna a probabilidade estimada\n",
        "    return sucesso / n_simulações\n",
        "\n",
        "probabilidade = lançar_dados(1000000)\n",
        "print(f\"La probabilidad estimada es {probabilidade}\")\n"
      ],
      "metadata": {
        "colab": {
          "base_uri": "https://localhost:8080/"
        },
        "id": "ay3q8tDt7VOW",
        "outputId": "c28582fa-8e07-48ce-f4b1-0e1bac92f841"
      },
      "execution_count": null,
      "outputs": [
        {
          "output_type": "stream",
          "name": "stdout",
          "text": [
            "La probabilidad estimada es 0.598112\n"
          ]
        }
      ]
    }
  ]
}