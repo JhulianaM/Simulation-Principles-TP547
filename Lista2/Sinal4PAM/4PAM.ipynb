{
  "nbformat": 4,
  "nbformat_minor": 0,
  "metadata": {
    "colab": {
      "provenance": []
    },
    "kernelspec": {
      "name": "python3",
      "display_name": "Python 3"
    },
    "language_info": {
      "name": "python"
    }
  },
  "cells": [
    {
      "cell_type": "code",
      "source": [
        "import numpy as np\n",
        "import matplotlib.pyplot as plt\n",
        "\n",
        "\n",
        "def generate_4pam_signal(bits):\n",
        "    #Mapeamento bit a símbolo 4-PAM\n",
        "    symbol_map = {'00': -3, '01': -1, '10': 1, '11': 3}\n",
        "    symbols=np.array([])\n",
        "    # Converter bits em símbolos\n",
        "    for i in range(0, len(bits), 2):\n",
        "      b = bits[i:i+2]\n",
        "      #print(b)\n",
        "      symbol = symbol_map[b]\n",
        "      #print(symbol)\n",
        "      symbols = np.append(symbols, symbol)\n",
        "\n",
        "    return symbols\n",
        "print(symbols)\n",
        "# Exemplo de uso\n",
        "bits = \"0010101110010010\"  # Exemplo de sequência de bits\n",
        "symbols = generate_4pam_signal(bits)\n",
        "\n",
        "plt.stem(symbols, use_line_collection=True)\n",
        "plt.title(\"Sinal 4-PAM gerada\")\n",
        "plt.xlabel(\"Amostras\")\n",
        "plt.ylabel(\"Amplitud\")\n",
        "plt.grid(True)\n",
        "plt.show()"
      ],
      "metadata": {
        "colab": {
          "base_uri": "https://localhost:8080/",
          "height": 544
        },
        "id": "oHR7ObXp8urA",
        "outputId": "8327d3ed-e25f-4c38-b6c8-36bfecdd9da0"
      },
      "execution_count": 41,
      "outputs": [
        {
          "output_type": "stream",
          "name": "stdout",
          "text": [
            "[-3.  1.  1.  3.  1. -1. -3.  1.]\n"
          ]
        },
        {
          "output_type": "stream",
          "name": "stderr",
          "text": [
            "<ipython-input-41-a709f69e091b>:23: MatplotlibDeprecationWarning: The 'use_line_collection' parameter of stem() was deprecated in Matplotlib 3.6 and will be removed two minor releases later. If any parameter follows 'use_line_collection', they should be passed as keyword, not positionally.\n",
            "  plt.stem(symbols, use_line_collection=True)\n"
          ]
        },
        {
          "output_type": "display_data",
          "data": {
            "text/plain": [
              "<Figure size 640x480 with 1 Axes>"
            ],
            "image/png": "[encoded data removed]"
          },
          "metadata": {}
        }
      ]
    },
    {
      "cell_type": "markdown",
      "source": [
        "Demodulação sem ruído"
      ],
      "metadata": {
        "id": "K2wKKZs4xvyr"
      }
    },
    {
      "cell_type": "code",
      "source": [
        "def demodulate_4pam_signal(symbols):\n",
        "    # Mapeamento inverso de símbolos para bits\n",
        "    symbol_map_inverse = {-3: '00', -1: '01', 1: '10', 3: '11'}\n",
        "\n",
        "    # Demodulação de símbolos\n",
        "    bits = \"\"\n",
        "    for symbol in symbols:\n",
        "        # Encontre o símbolo mais próximo\n",
        "        closest_symbol = min(symbol_map_inverse.keys(), key=lambda x: abs(x - symbol))\n",
        "        # Converta o símbolo para o bit correspondente\n",
        "        bits += symbol_map_inverse[closest_symbol]\n",
        "\n",
        "    return bits\n",
        "\n",
        "# Exemplo de uso\n",
        "received_bits = demodulate_4pam_signal(symbols)\n",
        "\n",
        "print(\"Bits recibidos después de demodulación:\", received_bits)\n"
      ],
      "metadata": {
        "colab": {
          "base_uri": "https://localhost:8080/"
        },
        "id": "1dKZPQGlphP1",
        "outputId": "f0bb049d-8878-4499-b8b5-e9594bb7d42e"
      },
      "execution_count": 10,
      "outputs": [
        {
          "output_type": "stream",
          "name": "stdout",
          "text": [
            "Bits recibidos después de demodulación: 0010101110010010\n"
          ]
        }
      ]
    },
    {
      "cell_type": "markdown",
      "source": [
        "Demodulação com ruído"
      ],
      "metadata": {
        "id": "0lrshwmpyAfT"
      }
    },
    {
      "cell_type": "code",
      "source": [
        "def add_noise(signal, noise_variance):\n",
        "    noise = np.random.normal(0, np.sqrt(noise_variance), len(signal))\n",
        "    return signal + noise\n",
        "\n",
        "def demodulate_4pam_signal(symbols, noise_variance):\n",
        "    # Mapeamento inverso de símbolos para bits\n",
        "    symbol_map_inverse = {-3: '00', -1: '01', 1: '10', 3: '11'}\n",
        "\n",
        "    # Adicionando ruído aos símbolos\n",
        "    symbols_noisy = add_noise(symbols, noise_variance)\n",
        "\n",
        "    # Demodulação de símbolos\n",
        "    bits = \"\"\n",
        "    for symbol in symbols_noisy:\n",
        "        # Encontre o símbolo mais próximo na ausência de ruído\n",
        "        closest_symbol = min(symbol_map_inverse.keys(), key=lambda x: abs(x - symbol))\n",
        "        # Converta o símbolo para o bit correspondente\n",
        "        bits += symbol_map_inverse[closest_symbol]\n",
        "\n",
        "    return bits\n",
        "\n",
        "# Exemplo de uso\n",
        "noise_variance = 0.5  # Variação de ruído\n",
        "received_bits = demodulate_4pam_signal(symbols, noise_variance)\n",
        "\n",
        "print(\"Bits recibidos después de demodulación con ruido:\", received_bits)\n"
      ],
      "metadata": {
        "colab": {
          "base_uri": "https://localhost:8080/"
        },
        "id": "f2hswDgSpLBy",
        "outputId": "8147a2fc-c441-4b51-aed2-7779b64408f7"
      },
      "execution_count": 42,
      "outputs": [
        {
          "output_type": "stream",
          "name": "stdout",
          "text": [
            "Bits recibidos después de demodulación con ruido: 0010101110010010\n"
          ]
        }
      ]
    }
  ]
}